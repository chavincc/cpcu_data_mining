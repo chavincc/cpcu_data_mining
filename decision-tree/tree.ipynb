{
 "cells": [
  {
   "cell_type": "code",
   "execution_count": 2,
   "metadata": {
    "scrolled": true
   },
   "outputs": [],
   "source": [
    "import sklearn\n",
    "import pandas as pd\n",
    "import numpy as np\n",
    "import math\n",
    "import copy"
   ]
  },
  {
   "cell_type": "code",
   "execution_count": 3,
   "metadata": {},
   "outputs": [],
   "source": [
    "raw_data = pd.read_excel('train.xlsx')"
   ]
  },
  {
   "cell_type": "code",
   "execution_count": 4,
   "metadata": {},
   "outputs": [
    {
     "name": "stdout",
     "output_type": "stream",
     "text": [
      "<class 'pandas.core.frame.DataFrame'>\n",
      "RangeIndex: 99999 entries, 0 to 99998\n",
      "Data columns (total 24 columns):\n",
      " #   Column            Non-Null Count  Dtype \n",
      "---  ------            --------------  ----- \n",
      " 0   id                99999 non-null  uint64\n",
      " 1   click             99999 non-null  int64 \n",
      " 2   hour              99999 non-null  int64 \n",
      " 3   C1                99999 non-null  int64 \n",
      " 4   banner_pos        99999 non-null  int64 \n",
      " 5   site_id           99999 non-null  object\n",
      " 6   site_domain       99999 non-null  object\n",
      " 7   site_category     99999 non-null  object\n",
      " 8   app_id            99999 non-null  object\n",
      " 9   app_domain        99999 non-null  object\n",
      " 10  app_category      99999 non-null  object\n",
      " 11  device_id         99999 non-null  object\n",
      " 12  device_ip         99999 non-null  object\n",
      " 13  device_model      99999 non-null  object\n",
      " 14  device_type       99999 non-null  int64 \n",
      " 15  device_conn_type  99999 non-null  int64 \n",
      " 16  C14               99999 non-null  int64 \n",
      " 17  C15               99999 non-null  int64 \n",
      " 18  C16               99999 non-null  int64 \n",
      " 19  C17               99999 non-null  int64 \n",
      " 20  C18               99999 non-null  int64 \n",
      " 21  C19               99999 non-null  int64 \n",
      " 22  C20               99999 non-null  int64 \n",
      " 23  C21               99999 non-null  int64 \n",
      "dtypes: int64(14), object(9), uint64(1)\n",
      "memory usage: 18.3+ MB\n",
      "None\n",
      "                 id         click        hour            C1    banner_pos  \\\n",
      "count  9.999900e+04  99999.000000     99999.0  99999.000000  99999.000000   \n",
      "mean   9.500834e+18      0.174902  14102100.0   1005.034440      0.198302   \n",
      "std    5.669435e+18      0.379885         0.0      1.088705      0.402641   \n",
      "min    3.237563e+13      0.000000  14102100.0   1001.000000      0.000000   \n",
      "25%    4.183306e+18      0.000000  14102100.0   1005.000000      0.000000   \n",
      "50%    1.074496e+19      0.000000  14102100.0   1005.000000      0.000000   \n",
      "75%    1.457544e+19      0.000000  14102100.0   1005.000000      0.000000   \n",
      "max    1.844670e+19      1.000000  14102100.0   1010.000000      5.000000   \n",
      "\n",
      "        device_type  device_conn_type           C14           C15  \\\n",
      "count  99999.000000      99999.000000  99999.000000  99999.000000   \n",
      "mean       1.055741          0.199272  17682.106071    318.333943   \n",
      "std        0.583986          0.635271   3237.726956     11.931998   \n",
      "min        0.000000          0.000000    375.000000    120.000000   \n",
      "25%        1.000000          0.000000  15704.000000    320.000000   \n",
      "50%        1.000000          0.000000  17654.000000    320.000000   \n",
      "75%        1.000000          0.000000  20362.000000    320.000000   \n",
      "max        5.000000          5.000000  21705.000000    728.000000   \n",
      "\n",
      "                C16           C17           C18           C19            C20  \\\n",
      "count  99999.000000  99999.000000  99999.000000  99999.000000   99999.000000   \n",
      "mean      56.818988   1964.029090      0.789328    131.735447   37874.606366   \n",
      "std       36.924283    394.961129      1.223747    244.077816   48546.369299   \n",
      "min       20.000000    112.000000      0.000000     33.000000      -1.000000   \n",
      "25%       50.000000   1722.000000      0.000000     35.000000      -1.000000   \n",
      "50%       50.000000   1993.000000      0.000000     35.000000      -1.000000   \n",
      "75%       50.000000   2306.000000      2.000000     39.000000  100083.000000   \n",
      "max      480.000000   2497.000000      3.000000   1835.000000  100248.000000   \n",
      "\n",
      "                C21  \n",
      "count  99999.000000  \n",
      "mean      88.555386  \n",
      "std       45.482979  \n",
      "min       13.000000  \n",
      "25%       61.000000  \n",
      "50%       79.000000  \n",
      "75%      156.000000  \n",
      "max      157.000000  \n",
      "                     id  click      hour    C1  banner_pos   site_id  \\\n",
      "0   1000009418151090048      0  14102100  1005           0  1fbe01fe   \n",
      "1  10000169349117800448      0  14102100  1005           0  1fbe01fe   \n",
      "2  10000371904215099392      0  14102100  1005           0  1fbe01fe   \n",
      "3  10000640724480800768      0  14102100  1005           0  1fbe01fe   \n",
      "4  10000679056416999424      0  14102100  1005           1  fe8cc448   \n",
      "\n",
      "  site_domain site_category    app_id app_domain  ... device_type  \\\n",
      "0    f3845767      28905ebd  ecad2386   7801e8d9  ...           1   \n",
      "1    f3845767      28905ebd  ecad2386   7801e8d9  ...           1   \n",
      "2    f3845767      28905ebd  ecad2386   7801e8d9  ...           1   \n",
      "3    f3845767      28905ebd  ecad2386   7801e8d9  ...           1   \n",
      "4    9166c161      0569f928  ecad2386   7801e8d9  ...           1   \n",
      "\n",
      "  device_conn_type    C14  C15  C16   C17  C18  C19     C20  C21  \n",
      "0                2  15706  320   50  1722    0   35      -1   79  \n",
      "1                0  15704  320   50  1722    0   35  100084   79  \n",
      "2                0  15704  320   50  1722    0   35  100084   79  \n",
      "3                0  15706  320   50  1722    0   35  100084   79  \n",
      "4                0  18993  320   50  2161    0   35      -1  157  \n",
      "\n",
      "[5 rows x 24 columns]\n",
      "id                  99999\n",
      "click                   2\n",
      "hour                    1\n",
      "C1                      6\n",
      "banner_pos              5\n",
      "site_id               893\n",
      "site_domain           780\n",
      "site_category          16\n",
      "app_id                704\n",
      "app_domain             55\n",
      "app_category           19\n",
      "device_id            7201\n",
      "device_ip           40376\n",
      "device_model         2473\n",
      "device_type             4\n",
      "device_conn_type        4\n",
      "C14                   420\n",
      "C15                     5\n",
      "C16                     6\n",
      "C17                   128\n",
      "C18                     4\n",
      "C19                    37\n",
      "C20                   137\n",
      "C21                    29\n",
      "dtype: int64\n"
     ]
    }
   ],
   "source": [
    "print(raw_data.info())\n",
    "print(raw_data.describe())\n",
    "print(raw_data.head())\n",
    "print(raw_data.nunique())"
   ]
  },
  {
   "cell_type": "code",
   "execution_count": 5,
   "metadata": {},
   "outputs": [
    {
     "name": "stdout",
     "output_type": "stream",
     "text": [
      "     C1  banner_pos site_domain site_category app_domain app_category  \\\n",
      "0  1005           0    f3845767      28905ebd   7801e8d9     07d7df22   \n",
      "1  1005           0    f3845767      28905ebd   7801e8d9     07d7df22   \n",
      "2  1005           0    f3845767      28905ebd   7801e8d9     07d7df22   \n",
      "3  1005           0    f3845767      28905ebd   7801e8d9     07d7df22   \n",
      "4  1005           1    9166c161      0569f928   7801e8d9     07d7df22   \n",
      "\n",
      "  device_model  device_type  device_conn_type    C14  C15  C16   C17  C18  \\\n",
      "0     44956a24            1                 2  15706  320   50  1722    0   \n",
      "1     711ee120            1                 0  15704  320   50  1722    0   \n",
      "2     8a4875bd            1                 0  15704  320   50  1722    0   \n",
      "3     6332421a            1                 0  15706  320   50  1722    0   \n",
      "4     779d90c2            1                 0  18993  320   50  2161    0   \n",
      "\n",
      "   C19     C20  C21  \n",
      "0   35      -1   79  \n",
      "1   35  100084   79  \n",
      "2   35  100084   79  \n",
      "3   35  100084   79  \n",
      "4   35      -1  157  \n"
     ]
    }
   ],
   "source": [
    "click = raw_data['click']\n",
    "sanitized_data = raw_data.drop(['id', 'hour', 'click', 'site_id', 'app_id', 'device_id', 'device_ip'], axis=1)\n",
    "print(sanitized_data.head())"
   ]
  },
  {
   "cell_type": "code",
   "execution_count": 6,
   "metadata": {},
   "outputs": [
    {
     "name": "stdout",
     "output_type": "stream",
     "text": [
      "17\n",
      "17\n",
      "17\n",
      "17\n",
      "17\n",
      "17\n",
      "17\n",
      "17\n",
      "17\n",
      "17\n",
      "17\n",
      "17\n",
      "17\n",
      "17\n",
      "17\n",
      "17\n",
      "17\n",
      "17\n"
     ]
    }
   ],
   "source": [
    "categorical_column = copy.deepcopy(sanitized_data.columns)\n",
    "print(len(categorical_column))\n",
    "for col in categorical_column:\n",
    "    print(len(categorical_column))\n",
    "    one_hot_frames = pd.get_dummies(sanitized_data[col], prefix=col)\n",
    "    sanitized_data = sanitized_data.join(one_hot_frames)\n",
    "    sanitized_data = sanitized_data.drop(col, axis=1)"
   ]
  },
  {
   "cell_type": "code",
   "execution_count": 7,
   "metadata": {},
   "outputs": [
    {
     "name": "stdout",
     "output_type": "stream",
     "text": [
      "<class 'pandas.core.frame.DataFrame'>\n",
      "RangeIndex: 99999 entries, 0 to 99998\n",
      "Columns: 4128 entries, C1_1001 to C21_157\n",
      "dtypes: uint8(4128)\n",
      "memory usage: 393.7 MB\n",
      "None\n"
     ]
    }
   ],
   "source": [
    "print(sanitized_data.info())"
   ]
  },
  {
   "cell_type": "code",
   "execution_count": 8,
   "metadata": {},
   "outputs": [],
   "source": [
    "from sklearn.model_selection import train_test_split"
   ]
  },
  {
   "cell_type": "code",
   "execution_count": 9,
   "metadata": {},
   "outputs": [],
   "source": [
    "X_train, X_test, y_train, y_test = train_test_split(sanitized_data, click, test_size=0.2, random_state=1234)"
   ]
  },
  {
   "cell_type": "code",
   "execution_count": 10,
   "metadata": {},
   "outputs": [
    {
     "name": "stdout",
     "output_type": "stream",
     "text": [
      "(79999, 4128)\n",
      "(20000, 4128)\n",
      "(79999,)\n",
      "(20000,)\n"
     ]
    }
   ],
   "source": [
    "print(X_train.shape)\n",
    "print(X_test.shape)\n",
    "print(y_train.shape)\n",
    "print(y_test.shape)"
   ]
  },
  {
   "cell_type": "code",
   "execution_count": 23,
   "metadata": {},
   "outputs": [
    {
     "data": {
      "text/plain": [
       "0.8121"
      ]
     },
     "execution_count": 23,
     "metadata": {},
     "output_type": "execute_result"
    }
   ],
   "source": [
    "from sklearn import tree\n",
    "cart_tree = tree.DecisionTreeClassifier()\n",
    "cart_tree.get_params()\n",
    "cart_tree.fit(X_train, y_train)\n",
    "cart_tree.score(X_test, y_test)"
   ]
  },
  {
   "cell_type": "code",
   "execution_count": 26,
   "metadata": {},
   "outputs": [
    {
     "data": {
      "text/plain": [
       "GridSearchCV(cv=10, estimator=DecisionTreeClassifier(), n_jobs=-1,\n",
       "             param_grid={'max_depth': [5, 6, 7, 8],\n",
       "                         'min_samples_split': [2, 3, 4, 5]},\n",
       "             scoring='accuracy')"
      ]
     },
     "execution_count": 26,
     "metadata": {},
     "output_type": "execute_result"
    }
   ],
   "source": [
    "from sklearn.model_selection import GridSearchCV\n",
    "\n",
    "params_cart_tree = {\n",
    "    'max_depth': [5, 6, 7, 8],\n",
    "    'min_samples_split': [2, 3, 4, 5]\n",
    "}\n",
    "\n",
    "grid_cart_tree = GridSearchCV(\n",
    "    estimator=tree.DecisionTreeClassifier(),\n",
    "    param_grid=params_cart_tree,\n",
    "    scoring='accuracy',\n",
    "    cv=10,\n",
    "    n_jobs=-1\n",
    ")\n",
    "\n",
    "grid_cart_tree.fit(X_train, y_train)"
   ]
  },
  {
   "cell_type": "code",
   "execution_count": 29,
   "metadata": {},
   "outputs": [
    {
     "name": "stdout",
     "output_type": "stream",
     "text": [
      "best hyperparameters : {'max_depth': 8, 'min_samples_split': 2}\n",
      "best cv accuracy : 0.8280229013001625\n",
      "default CART score : 0.8121\n",
      "grid CART score : 0.8271\n"
     ]
    }
   ],
   "source": [
    "print('best hyperparameters :', grid_cart_tree.best_params_)\n",
    "print('best cv accuracy :', grid_cart_tree.best_score_)\n",
    "print('default CART score :', cart_tree.score(X_test, y_test))\n",
    "print('grid CART score :', grid_cart_tree.score(X_test, y_test))"
   ]
  },
  {
   "cell_type": "code",
   "execution_count": 11,
   "metadata": {},
   "outputs": [
    {
     "data": {
      "text/plain": [
       "{'bootstrap': True,\n",
       " 'ccp_alpha': 0.0,\n",
       " 'class_weight': None,\n",
       " 'criterion': 'gini',\n",
       " 'max_depth': None,\n",
       " 'max_features': 'auto',\n",
       " 'max_leaf_nodes': None,\n",
       " 'max_samples': None,\n",
       " 'min_impurity_decrease': 0.0,\n",
       " 'min_impurity_split': None,\n",
       " 'min_samples_leaf': 1,\n",
       " 'min_samples_split': 2,\n",
       " 'min_weight_fraction_leaf': 0.0,\n",
       " 'n_estimators': 100,\n",
       " 'n_jobs': None,\n",
       " 'oob_score': False,\n",
       " 'random_state': None,\n",
       " 'verbose': 0,\n",
       " 'warm_start': False}"
      ]
     },
     "execution_count": 11,
     "metadata": {},
     "output_type": "execute_result"
    }
   ],
   "source": [
    "from sklearn.ensemble import RandomForestClassifier\n",
    "RandomForestClassifier().get_params()"
   ]
  },
  {
   "cell_type": "code",
   "execution_count": 12,
   "metadata": {},
   "outputs": [
    {
     "data": {
      "text/plain": [
       "GridSearchCV(cv=3, estimator=RandomForestClassifier(), n_jobs=-1,\n",
       "             param_grid={'max_features': ['log2', 'sqrt'],\n",
       "                         'min_samples_split': [2, 3],\n",
       "                         'n_estimators': [100, 175, 250]},\n",
       "             scoring='accuracy')"
      ]
     },
     "execution_count": 12,
     "metadata": {},
     "output_type": "execute_result"
    }
   ],
   "source": [
    "from sklearn.model_selection import GridSearchCV\n",
    "random_forest_params = {\n",
    "    'n_estimators': [100, 175, 250],\n",
    "    'min_samples_split': [2, 3],\n",
    "    'max_features': ['log2', 'sqrt']\n",
    "}\n",
    "\n",
    "grid_random_forest = GridSearchCV(\n",
    "    estimator=RandomForestClassifier(),\n",
    "    param_grid=random_forest_params,\n",
    "    cv=3,\n",
    "    scoring='accuracy',\n",
    "    n_jobs=-1\n",
    ")\n",
    "\n",
    "grid_random_forest.fit(X_train, y_train)"
   ]
  },
  {
   "cell_type": "code",
   "execution_count": 16,
   "metadata": {},
   "outputs": [
    {
     "name": "stdout",
     "output_type": "stream",
     "text": [
      "random forest best hyperparameters :\n",
      " {'max_features': 'sqrt', 'min_samples_split': 3, 'n_estimators': 175}\n",
      "random forest best cv accuracy : 0.8165977169453987\n",
      "best random forest score : 0.8177\n"
     ]
    }
   ],
   "source": [
    "print('random forest best hyperparameters :\\n', grid_random_forest.best_params_)\n",
    "print('random forest best cv accuracy :', grid_random_forest.best_score_)\n",
    "\n",
    "best_random_forest = grid_random_forest.best_estimator_\n",
    "print('best random forest score :', best_random_forest.score(X_test, y_test))"
   ]
  },
  {
   "cell_type": "code",
   "execution_count": 37,
   "metadata": {},
   "outputs": [
    {
     "data": {
      "image/png": "[encoded data removed]",
      "text/plain": [
       "<Figure size 432x288 with 1 Axes>"
      ]
     },
     "metadata": {
      "needs_background": "light"
     },
     "output_type": "display_data"
    }
   ],
   "source": [
    "import matplotlib.pyplot as plt\n",
    "\n",
    "importances_random_forest = pd.Series(best_random_forest.feature_importances_, index = X_test.columns)\n",
    "sorted_importances_random_forest = importances_random_forest.sort_values(ascending=False)\n",
    "top_importances = sorted_importances_random_forest[:1000]\n",
    "top_importances[:100].plot(kind='bar', color='lightgreen')\n",
    "plt.show()"
   ]
  },
  {
   "cell_type": "code",
   "execution_count": 52,
   "metadata": {},
   "outputs": [
    {
     "name": "stdout",
     "output_type": "stream",
     "text": [
      "(79999, 1000)\n",
      "(20000, 1000)\n",
      "(79999,)\n",
      "(20000,)\n"
     ]
    }
   ],
   "source": [
    "X_train.drop(X_train.columns.difference(top_importances.index), 1, inplace=True)\n",
    "X_test.drop(X_test.columns.difference(top_importances.index), 1, inplace=True)\n",
    "print(X_train.shape)\n",
    "print(X_test.shape)\n",
    "print(y_train.shape)\n",
    "print(y_test.shape)"
   ]
  },
  {
   "cell_type": "code",
   "execution_count": 57,
   "metadata": {},
   "outputs": [
    {
     "data": {
      "text/plain": [
       "GridSearchCV(cv=10, estimator=DecisionTreeClassifier(), n_jobs=4,\n",
       "             param_grid={'max_depth': [5, 6, 8], 'min_samples_split': [2, 3]},\n",
       "             scoring='accuracy')"
      ]
     },
     "execution_count": 57,
     "metadata": {},
     "output_type": "execute_result"
    }
   ],
   "source": [
    "from sklearn.model_selection import GridSearchCV\n",
    "from sklearn import tree\n",
    "\n",
    "params_selected_cart_tree = {\n",
    "    'max_depth': [5, 6, 8],\n",
    "    'min_samples_split': [2, 3]\n",
    "}\n",
    "\n",
    "grid_selected_cart_tree = GridSearchCV(\n",
    "    estimator=tree.DecisionTreeClassifier(),\n",
    "    param_grid=params_selected_cart_tree,\n",
    "    scoring='accuracy',\n",
    "    cv=10,\n",
    "    n_jobs=4\n",
    ")\n",
    "\n",
    "grid_selected_cart_tree.fit(X_train, y_train)"
   ]
  },
  {
   "cell_type": "code",
   "execution_count": 59,
   "metadata": {},
   "outputs": [
    {
     "name": "stdout",
     "output_type": "stream",
     "text": [
      "best hyperparameters : {'max_depth': 8, 'min_samples_split': 2}\n",
      "best cv accuracy : 0.8280229013001625\n",
      "grid-selected CART score : 0.8272\n"
     ]
    }
   ],
   "source": [
    "print('best hyperparameters :', grid_selected_cart_tree.best_params_)\n",
    "print('best cv accuracy :', grid_selected_cart_tree.best_score_)\n",
    "print('grid feature-selected CART score :', grid_selected_cart_tree.score(X_test, y_test))"
   ]
  },
  {
   "cell_type": "code",
   "execution_count": 60,
   "metadata": {},
   "outputs": [
    {
     "name": "stdout",
     "output_type": "stream",
     "text": [
      "---accuracy comparison---\n",
      "grid cart : 0.8271\n",
      "grid random forest : 0.8177\n",
      "grid feature-selected cart : 0.8272\n"
     ]
    }
   ],
   "source": [
    "# feature-selected cart have a very slight improvement in accuracy but very high performance in term of training time\n",
    "\n",
    "print('---accuracy comparison---')\n",
    "print('grid cart : 0.8271')\n",
    "print('grid random forest : 0.8177')\n",
    "print('grid feature-selected cart : 0.8272')"
   ]
  },
  {
   "cell_type": "code",
   "execution_count": null,
   "metadata": {},
   "outputs": [],
   "source": []
  }
 ],
 "metadata": {
  "kernelspec": {
   "display_name": "Python 3",
   "language": "python",
   "name": "python3"
  },
  "language_info": {
   "codemirror_mode": {
    "name": "ipython",
    "version": 3
   },
   "file_extension": ".py",
   "mimetype": "text/x-python",
   "name": "python",
   "nbconvert_exporter": "python",
   "pygments_lexer": "ipython3",
   "version": "3.8.3"
  }
 },
 "nbformat": 4,
 "nbformat_minor": 4
}
